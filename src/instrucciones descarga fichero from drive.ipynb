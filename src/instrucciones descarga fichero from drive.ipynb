{
 "cells": [
  {
   "cell_type": "code",
   "execution_count": null,
   "metadata": {
    "collapsed": true
   },
   "outputs": [],
   "source": [
    "Fetching supplier data\n",
    "You'll first need to get the information from the supplier that is currently stored in a Google Drive file. The supplier has sent data as large images with an associated description of the products in two files (.TIF for the image and .txt for the description).\n",
    "\n",
    "Here, you'll find two script files download_drive_file.sh and the example_upload.py files. You can view it by using the following command.\n",
    "\n",
    "ls ~/\n",
    "Copied!\n",
    "Output:\n",
    "\n",
    "19cdba5cb97d3091.png\n",
    "\n",
    "To download the file from the supplier onto our linux-instance virtual machine we will first grant executable permission to the download_drive_file.sh script.\n",
    "\n",
    "sudo chmod +x ~/download_drive_file.sh\n",
    "Copied!\n",
    "Run the download_drive_file.sh shell script with the following arguments:\n",
    "\n",
    "./download_drive_file.sh 1LePo57dJcgzoK4uiI_48S01Etck7w_5f supplier-data.tar.gz\n",
    "Copied!\n",
    "Output:\n",
    "\n",
    "fa96a73a09a0fb81.png\n",
    "\n",
    "You have now downloaded a file named supplier-data.tar.gz containing the supplier's data. Let's extract the contents from this file using the following command:\n",
    "\n",
    "tar xf ~/supplier-data.tar.gz\n",
    "Copied!\n",
    "This creates a directory named supplier-data, that contains subdirectories named images and descriptions.\n",
    "\n",
    "2ba417715369f867.png\n",
    "\n",
    "List contents of the supplier-data directory using the following command:\n",
    "\n",
    "ls ~/supplier-data\n",
    "Copied!\n",
    "Output:\n",
    "\n",
    "3fb0e0016e2bb0f7.png\n",
    "\n",
    "The subdirectory images contain images of various fruits, while the descriptions subdirectory has text files containing the description of each fruit. You can have a look at any of these text files using cat command.\n",
    "\n",
    "cat ~/supplier-data/descriptions/007.txt\n",
    "Copied!\n",
    "Output:\n",
    "\n",
    "3047a30cc5caf228.png\n",
    "\n",
    "The first line contains the name of the fruit followed by the weight of the fruit and finally the description of the fruit."
   ]
  }
 ],
 "metadata": {
  "kernelspec": {
   "display_name": "Python 3",
   "language": "python",
   "name": "python3"
  },
  "language_info": {
   "codemirror_mode": {
    "name": "ipython",
    "version": 2
   },
   "file_extension": ".py",
   "mimetype": "text/x-python",
   "name": "python",
   "nbconvert_exporter": "python",
   "pygments_lexer": "ipython2",
   "version": "2.7.6"
  }
 },
 "nbformat": 4,
 "nbformat_minor": 0
}